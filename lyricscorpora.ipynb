{
 "cells": [
  {
   "cell_type": "code",
   "execution_count": 255,
   "metadata": {
    "collapsed": true
   },
   "outputs": [],
   "source": [
    "#!/usr/bin/env python3"
   ]
  },
  {
   "cell_type": "code",
   "execution_count": 256,
   "metadata": {},
   "outputs": [
    {
     "data": {
      "text/plain": [
       "\"\\nGet lyrics from your favorite songs, artists, genres, and billboard charts! This is a WikiaLyrics API, \\nbut distinguishes itself from others like it (eg. lyric-api) because it searches for the artist and song through \\nthe lyrics.wikia.com website, thereby allowing for variations in the song or artist's name.\\n\""
      ]
     },
     "execution_count": 256,
     "metadata": {},
     "output_type": "execute_result"
    }
   ],
   "source": [
    "\"\"\"\n",
    "Get lyrics from your favorite songs, artists, genres, and billboard charts! This is a WikiaLyrics API, \n",
    "but distinguishes itself from others like it (eg. lyric-api) because it searches for the artist and song through \n",
    "the lyrics.wikia.com website, thereby allowing for variations in the song or artist's name.\n",
    "\"\"\""
   ]
  },
  {
   "cell_type": "code",
   "execution_count": 257,
   "metadata": {
    "collapsed": true
   },
   "outputs": [],
   "source": [
    "import billboard\n",
    "import requests\n",
    "from bs4 import BeautifulSoup\n",
    "import argparse"
   ]
  },
  {
   "cell_type": "code",
   "execution_count": 258,
   "metadata": {
    "collapsed": true
   },
   "outputs": [],
   "source": [
    "GENRE_LIST = [\"r-b-hip-hop\", \"country\", \"rock\", \"latin\", \"dance-electronic\", \"christian\", \"gospel\"]\n",
    "SEARCH_URL = \"http://lyrics.wikia.com/wiki/Special:Search?search={0}:{1}\"\n",
    "BASE_URL = \"http://lyrics.wikia.com/{0}\"\n",
    "MAIN_ARTIST_CUT_OFFS = [\" Featuring\", \" x \", \" X \", \" Duet With \", \" &\", \",\"] #finds artist name by extracting string before cutoff"
   ]
  },
  {
   "cell_type": "code",
   "execution_count": 259,
   "metadata": {
    "collapsed": true
   },
   "outputs": [],
   "source": [
    "class Artist:\n",
    "    \n",
    "    def __init__(self, name):\n",
    "        self.name = name\n",
    "        self.albumList = None\n",
    "    \n",
    "    def getName(self):\n",
    "        return self.name\n",
    "    \n",
    "    def getAlbumList(self):\n",
    "        if self.albumList is None:\n",
    "            page = requests.get(BASE_URL.format(artist.getName()))\n",
    "            soup = BeautifulSoup(page.content, \"html.parser\")\n",
    "            headlines = soup.findAll(\"span\", {\"class\", \"mw-headline\"})\n",
    "            albumList = []\n",
    "            for headline in headlines:\n",
    "                link = headline.find(\"a\")\n",
    "                if link is not None:\n",
    "                    title = link[\"title\"]\n",
    "                    albumTitle = title[title.find(\":\")+1:title.find(\" (\")]\n",
    "                    album = Album(albumTitle, artist, BASE_URL.format(link[\"href\"]))\n",
    "                    albumList.append(album)\n",
    "            self.albumList = albumList\n",
    "        return self.albumList\n",
    "    \n",
    "    def getSongList(self):\n",
    "        return [song for album in self.getAlbumList() for song in album.getSongList()]\n",
    "    \n",
    "    def getLyrics(self):\n",
    "        lyrics = \"\"\n",
    "        for album in self.getAlbumList():\n",
    "            for song in album.getSongList():\n",
    "                try:\n",
    "                    if song.lyrics is None:\n",
    "                        page = requests.get(song.getLink())\n",
    "                        soup = BeautifulSoup(page.content, 'html.parser')\n",
    "                        lyricBox = soup.find('div', {'class': 'lyricbox'})\n",
    "                        for br in lyricBox.findAll('br'):\n",
    "                            br.replace_with('\\n')\n",
    "                        songLyrics = lyricBox.text.strip()\n",
    "                        lyrics += songLyrics\n",
    "                        song.setLyrics(songLyrics)\n",
    "                    else:\n",
    "                        lyrics += song.getLyrics()\n",
    "                except:\n",
    "                    continue\n",
    "        return lyrics\n",
    "    \n",
    "    def __str__(self):\n",
    "        return self.name\n",
    "    \n",
    "    def __repr__(self):\n",
    "        return str(self)\n",
    "    \n",
    "    def __eq__(self, other): \n",
    "        return self.name == other.name\n",
    "    \n",
    "    def __hash__(self):\n",
    "        return hash(self.name)\n"
   ]
  },
  {
   "cell_type": "code",
   "execution_count": 260,
   "metadata": {
    "collapsed": true
   },
   "outputs": [],
   "source": [
    "class Album:\n",
    "    \n",
    "    def __init__(self, name, artist, link=None):\n",
    "        self.name = name\n",
    "        self.artist = artist\n",
    "        self.link = link\n",
    "        self.songList = []\n",
    "            \n",
    "    def getArtist(self):\n",
    "        return self.artist\n",
    "    \n",
    "    def getSongList(self):\n",
    "        if not self.songList:\n",
    "            link = self.getLink()\n",
    "            page = requests.get(link)\n",
    "            soup = BeautifulSoup(page.content, \"html.parser\")\n",
    "            content = soup.find(\"div\", {\"class\":\"mw-content-text\"})\n",
    "            if content is not None:\n",
    "                trackListBox = content.find(\"ol\")\n",
    "                songItems = trackListBox.findAll(\"li\")\n",
    "                for songItem in songItems:\n",
    "                    songLink = songItem.find(\"a\")\n",
    "                    title = songLink.string\n",
    "                    url = BASE_URL.format(songLink[\"href\"])\n",
    "                    song = Song(title)\n",
    "                    song.setLink(url)\n",
    "                    song.setArtist(self.getArtist())\n",
    "                    self.songList.append(song)\n",
    "        return self.songList\n",
    "    \n",
    "    def getLink(self):\n",
    "        return self.link\n",
    "    \n",
    "    def __str__(self):\n",
    "        return self.name\n",
    "    \n",
    "    def __eq__(self, other):\n",
    "        return self.name == other.name and self.artist == other.artist\n",
    "\n",
    "    def __repr__(self):\n",
    "        return str(self)"
   ]
  },
  {
   "cell_type": "code",
   "execution_count": 288,
   "metadata": {
    "collapsed": true
   },
   "outputs": [],
   "source": [
    "class Song:\n",
    "    \n",
    "    def __init__(self, title, lyrics=None, link=None, artist=None):\n",
    "        self.title = title\n",
    "        self.lyrics = lyrics\n",
    "        self.link = link\n",
    "        if type(artist) is str:\n",
    "            self.artist = Artist(artist)\n",
    "        else:\n",
    "            self.artist = artist\n",
    "    \n",
    "    def getArtist(self):\n",
    "        return self.artist\n",
    "    \n",
    "    def setArtist(self, artist):\n",
    "        self.artist = artist\n",
    "        \n",
    "    def getTitle(self):\n",
    "        return self.title\n",
    "    \n",
    "    def setLyrics(self, lyrics):\n",
    "        self.lyrics = lyrics\n",
    "        \n",
    "    def getLyrics(self):\n",
    "        if self.lyrics is None:\n",
    "            self.lyrics = getLyrics(song)\n",
    "        return self.lyrics\n",
    "    \n",
    "    def setLink(self, link):\n",
    "        self.link = link\n",
    "    \n",
    "    def getLink(self):\n",
    "        return self.link\n",
    "    \n",
    "    def __str__(self):\n",
    "        return self.title\n",
    "    \n",
    "    def __repr__(self):\n",
    "        return str(self)\n",
    "    \n",
    "    def __eq__(self, other): \n",
    "        return self.title == other.title and self.artist == other.artist"
   ]
  },
  {
   "cell_type": "code",
   "execution_count": 301,
   "metadata": {
    "collapsed": true
   },
   "outputs": [],
   "source": [
    "class Billboard:\n",
    "    \n",
    "    def __init__(self, totalWeeks=1, chart=billboard.ChartData('hot-100')):\n",
    "        self.songList = []\n",
    "        songIndex = 0\n",
    "        weekNum = 0\n",
    "        while (weekNum < totalWeeks):\n",
    "            while (songIndex < len(chart.entries)):\n",
    "                chartSong = chart[songIndex]\n",
    "                artistName = chartSong.artist\n",
    "                for cut_off in MAIN_ARTIST_CUT_OFFS:\n",
    "                    if cut_off in artistName:\n",
    "                        artistName = artistName[:artistName.find(cut_off)]\n",
    "                song = Song(title=chartSong.title, artist=artistName)\n",
    "                if song not in self.songList:\n",
    "                    self.songList.append(song)\n",
    "                songIndex += 1\n",
    "            weekNum += 1\n",
    "            songIndex = 0\n",
    "            chart = billboard.ChartData('hot-100', chart.previousDate)\n",
    "    \n",
    "    def getSongList(self):\n",
    "        return self.songList\n",
    "    \n",
    "    def getArtistList(self):\n",
    "        return set([song.getArtist() for song in self.songList])\n",
    "    \n",
    "    def __len__(self):\n",
    "        return len(songList)"
   ]
  },
  {
   "cell_type": "code",
   "execution_count": 263,
   "metadata": {
    "collapsed": true
   },
   "outputs": [],
   "source": [
    "class Genre:\n",
    "    def __init__(self, genre):\n",
    "        if genre not in GENRE_LIST:\n",
    "            raise Exception('genre, {0} is not in the accepted genre list. Please use getGenreList() to find acceptable genres. '.format(genre))\n",
    "        chart = billboard.ChartData('{0}-songs'.format(genre))\n",
    "        billboardChart = Billboard(104, chart)\n",
    "        self.artistList = billboardChart.getArtistList()\n",
    "        self.songList = billboardChart.getSongList()\n",
    "    \n",
    "    def getArtistList(self):\n",
    "        return self.artist\n",
    "    \n",
    "    def getSongList(self):\n",
    "        return self.songList\n",
    "    \n",
    "    def getGenreList(self):\n",
    "        return GENRE_LIST\n"
   ]
  },
  {
   "cell_type": "code",
   "execution_count": 264,
   "metadata": {
    "collapsed": true
   },
   "outputs": [],
   "source": [
    "def getLyrics(song):\n",
    "    artist = song.getArtist()\n",
    "    title = song.getTitle()\n",
    "    try:\n",
    "        artistName = artist.getName()\n",
    "        url = SEARCH_URL.format(artistName.replace(\" \", \"+\"), title.replace(\" \", \"+\"))\n",
    "        page = requests.get(url)\n",
    "        soup = BeautifulSoup(page.text, 'html.parser')\n",
    "        resultBox = soup.find(\"li\", {'class', 'result'})\n",
    "        resultLink = resultBox.find(\"a\", {'class', 'result-link'}, href=True)\n",
    "        resultUrl = resultLink.get('href')\n",
    "        page = requests.get(resultUrl)\n",
    "        soup = BeautifulSoup(page.text, 'html.parser')\n",
    "        lyricBox = soup.find('div', {'class': 'lyricbox'})\n",
    "        for br in lyricBox.findAll('br'):\n",
    "            br.replace_with('\\n')\n",
    "        lyrics = lyricBox.text.strip()\n",
    "        song.setLyrics(lyrics)\n",
    "        return lyrics\n",
    "    except:\n",
    "        return None"
   ]
  },
  {
   "cell_type": "code",
   "execution_count": 265,
   "metadata": {
    "collapsed": true
   },
   "outputs": [],
   "source": [
    "def main():\n",
    "    parser = argparse.ArgumentParser(description=\"Get lyrics from your favorite songs, artists, genres, and billboard charts!\")\n",
    "    \n",
    "    parser.add_argument(\n",
    "    \"-a\", \"--artist\",\n",
    "    help=\"Specify the artist's name\",\n",
    "    required=False\n",
    "    )\n",
    "    parser.add_argument(\n",
    "    \"-t\", \"--title\",\n",
    "    help=\"Specify the song's title\",\n",
    "    required=False\n",
    "    )\n",
    "    parser.add_argument(\n",
    "    \"-g\", \"--genre\",\n",
    "    help=\"Specify the genre of lyrics you would like to receive\",\n",
    "    required=False\n",
    "    )\n",
    "    parser.add_argument(\n",
    "    \"-gl\", \"--genrelist\",\n",
    "    help=\"Returns a list of the genres from which you can retrieve a corpus of lyrics\",\n",
    "    required=False,\n",
    "    action='store_true'\n",
    "    )\n",
    "    parser.add_argument(\n",
    "    \"-b\", \"--billboardchart\",\n",
    "    help=\"Specify the number of weeks for the billboard charts\",\n",
    "    required=False\n",
    "    )\n",
    "    \n",
    "    args = parser.parse_args()\n",
    "    \n",
    "    if args.artist:\n",
    "        if args.title:\n",
    "            print(getLyrics( Song(args.title, Artist(args.artist) )))\n",
    "        else:\n",
    "            print(Artist(args.artist).getLyrics())\n",
    "    elif args.genre:\n",
    "        print([ song.getLyrics for song in Genre(args.genre).getSongList()])\n",
    "    elif args.genrelist:\n",
    "        print(GENRE_LIST)\n",
    "    elif args.billboardchart:\n",
    "        print([song.getLyrics for song in Billboard(args.billboardChart).getSongList()])\n",
    "    else:\n",
    "        raise Exception(\"An argument, such as -a artist -t title, is needed\")"
   ]
  },
  {
   "cell_type": "code",
   "execution_count": 266,
   "metadata": {},
   "outputs": [
    {
     "name": "stderr",
     "output_type": "stream",
     "text": [
      "usage: ipykernel_launcher.py [-h] [-a ARTIST] [-t TITLE] [-g GENRE] [-gl]\n",
      "                             [-b BILLBOARDCHART]\n",
      "ipykernel_launcher.py: error: unrecognized arguments: -f C:\\Users\\seley\\AppData\\Roaming\\jupyter\\runtime\\kernel-0ce458ed-e54e-4d4c-8cfc-f40e3cd0ecc4.json\n"
     ]
    },
    {
     "ename": "SystemExit",
     "evalue": "2",
     "output_type": "error",
     "traceback": [
      "An exception has occurred, use %tb to see the full traceback.\n",
      "\u001b[1;31mSystemExit\u001b[0m\u001b[1;31m:\u001b[0m 2\n"
     ]
    },
    {
     "name": "stderr",
     "output_type": "stream",
     "text": [
      "C:\\Users\\seley\\Anaconda3\\lib\\site-packages\\IPython\\core\\interactiveshell.py:2870: UserWarning: To exit: use 'exit', 'quit', or Ctrl-D.\n",
      "  warn(\"To exit: use 'exit', 'quit', or Ctrl-D.\", stacklevel=1)\n"
     ]
    }
   ],
   "source": [
    "if __name__ == '__main__':\n",
    "    main()"
   ]
  }
 ],
 "metadata": {
  "kernelspec": {
   "display_name": "Python 3",
   "language": "python",
   "name": "python3"
  },
  "language_info": {
   "codemirror_mode": {
    "name": "ipython",
    "version": 3
   },
   "file_extension": ".py",
   "mimetype": "text/x-python",
   "name": "python",
   "nbconvert_exporter": "python",
   "pygments_lexer": "ipython3",
   "version": "3.6.3"
  }
 },
 "nbformat": 4,
 "nbformat_minor": 2
}
