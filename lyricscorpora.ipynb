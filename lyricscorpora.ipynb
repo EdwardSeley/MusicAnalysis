{
 "cells": [
  {
   "cell_type": "code",
   "execution_count": 28,
   "metadata": {
    "collapsed": true
   },
   "outputs": [],
   "source": [
    "#!/usr/bin/env python3"
   ]
  },
  {
   "cell_type": "code",
   "execution_count": 29,
   "metadata": {},
   "outputs": [
    {
     "data": {
      "text/plain": [
       "\"\\nGet lyrics from your favorite songs, artists, genres, and billboard charts! This is a WikiaLyrics API, \\nbut distinguishes itself from others like it (eg. lyric-api) because it searches for the artist and song through \\nthe lyrics.wikia.com website, thereby allowing for variations in the song or artist's name.\\n\""
      ]
     },
     "execution_count": 29,
     "metadata": {},
     "output_type": "execute_result"
    }
   ],
   "source": [
    "\"\"\"\n",
    "Get lyrics from your favorite songs, artists, genres, and billboard charts! This is a WikiaLyrics API, \n",
    "but distinguishes itself from others like it (eg. lyric-api) because it searches for the artist and song through \n",
    "the lyrics.wikia.com website, thereby allowing for variations in the song or artist's name.\n",
    "\"\"\""
   ]
  },
  {
   "cell_type": "code",
   "execution_count": 30,
   "metadata": {
    "collapsed": true
   },
   "outputs": [],
   "source": [
    "import billboard\n",
    "import requests\n",
    "from bs4 import BeautifulSoup\n",
    "import argparse"
   ]
  },
  {
   "cell_type": "code",
   "execution_count": 31,
   "metadata": {
    "collapsed": true
   },
   "outputs": [],
   "source": [
    "GENRE_LIST = [\"r-b-hip-hop\", \"country\", \"rock\", \"latin\", \"dance-electronic\", \"christian\", \"gospel\"]\n",
    "SEARCH_URL = \"http://lyrics.wikia.com/wiki/Special:Search?search={0}:{1}\"\n",
    "BASE_URL = \"http://lyrics.wikia.com/wiki/{0}\"\n",
    "MAIN_ARTIST_CUT_OFFS = [\" Featuring\", \" x \", \" X \", \" Duet With \", \" &\", \",\"] #finds artist name by extracting string before cutoff"
   ]
  },
  {
   "cell_type": "code",
   "execution_count": 32,
   "metadata": {
    "collapsed": true
   },
   "outputs": [],
   "source": [
    "def getLyrics(artist, title):\n",
    "    try:\n",
    "        url = SEARCH_URL.format(artist.replace(\" \", \"+\"), title.replace(\" \", \"+\"))\n",
    "        page = requests.get(url)\n",
    "        soup = BeautifulSoup(page.text, 'html.parser')\n",
    "        resultBox = soup.find(\"li\", {'class', 'result'})\n",
    "        resultLink = resultBox.find(\"a\", {'class', 'result-link'}, href=True)\n",
    "        resultUrl = resultLink.get('href')\n",
    "        page = requests.get(resultUrl)\n",
    "        soup = BeautifulSoup(page.text, 'html.parser')\n",
    "        lyricBox = soup.find('div', {'class': 'lyricbox'})\n",
    "        for br in lyricBox.findAll('br'):\n",
    "            br.replace_with('\\n')\n",
    "        return lyricBox.text.strip()\n",
    "    except:\n",
    "        return None"
   ]
  },
  {
   "cell_type": "code",
   "execution_count": 33,
   "metadata": {
    "collapsed": true
   },
   "outputs": [],
   "source": [
    "def getBillboardCorpus(totalWeeks=1, chart=billboard.ChartData('hot-100')):\n",
    "    songIndex = 0\n",
    "    weekNum = 0\n",
    "    music_collection = dict({})\n",
    "    while (weekNum < totalWeeks):\n",
    "        while (songIndex < len(chart.entries)):\n",
    "            song = chart[songIndex]\n",
    "            artist = song.artist\n",
    "            for cut_off in MAIN_ARTIST_CUT_OFFS:\n",
    "                if cut_off in artist:\n",
    "                    artist = artist[:artist.find(cut_off)]\n",
    "            title = song.title\n",
    "            lyrics = None\n",
    "            if artist not in music_collection:\n",
    "                music_collection[artist] = {}\n",
    "            if title not in music_collection[artist]:\n",
    "                lyrics = getLyrics(song.artist, title)\n",
    "                if lyrics is None:\n",
    "                    lyrics = getLyrics(artist, title)\n",
    "                music_collection[artist][title] = lyrics\n",
    "                if lyrics is None:\n",
    "                    music_collection[artist][title] = \"\"\n",
    "            songIndex += 1\n",
    "        weekNum += 1\n",
    "        songIndex = 0\n",
    "        chart = billboard.ChartData('hot-100', chart.previousDate)\n",
    "    return music_collection"
   ]
  },
  {
   "cell_type": "code",
   "execution_count": 34,
   "metadata": {
    "collapsed": true
   },
   "outputs": [],
   "source": [
    "def getGenreCorpus(genre):\n",
    "    if genre not in getGenreList():\n",
    "        raise Exception('genre, {0} is not in the accepted genre list. Please use getGenreList() to find acceptable genres. '.format(genre))\n",
    "    chart = billboard.ChartData('{0}-songs'.format(genre))\n",
    "    return getBillboardCorpus(104, chart)"
   ]
  },
  {
   "cell_type": "code",
   "execution_count": 35,
   "metadata": {
    "collapsed": true
   },
   "outputs": [],
   "source": [
    "def getArtistCorpus(artist):\n",
    "    artistCorpus = {}\n",
    "    for album in getAlbumListFromArtist(artist):\n",
    "        artistCorpus[album[0]] = {}\n",
    "        for song in getSongListFromAlbum(album):\n",
    "            try:\n",
    "                page = requests.get(song[1])\n",
    "                soup = BeautifulSoup(page.content, 'html.parser')\n",
    "                lyricBox = soup.find('div', {'class': 'lyricbox'})\n",
    "                for br in lyricBox.findAll('br'):\n",
    "                    br.replace_with('\\n')\n",
    "                lyrics = lyricBox.text.strip()\n",
    "                artistCorpus[album[0]][song[0]] = lyrics\n",
    "            except:\n",
    "                continue\n",
    "    return artistCorpus"
   ]
  },
  {
   "cell_type": "code",
   "execution_count": 36,
   "metadata": {
    "collapsed": true
   },
   "outputs": [],
   "source": [
    "def getAlbumListFromArtist(artist):\n",
    "    page = requests.get(BASE_URL.format(artist))\n",
    "    soup = BeautifulSoup(page.content, \"html.parser\")\n",
    "    headlines = soup.findAll(\"span\", {\"class\", \"mw-headline\"})\n",
    "    albums = []\n",
    "    for headline in headlines:\n",
    "        link = headline.find(\"a\")\n",
    "        if link is not None:\n",
    "            title = link[\"title\"]\n",
    "            albumTitle = title[title.find(\":\")+1:title.find(\" (\")]\n",
    "            albums.append( (albumTitle, \"https://lyrics.wikia.com{0}\".format(link[\"href\"])))\n",
    "    return albums"
   ]
  },
  {
   "cell_type": "code",
   "execution_count": 37,
   "metadata": {
    "collapsed": true
   },
   "outputs": [],
   "source": [
    "def getSongListFromAlbum(album):\n",
    "    link = album[1]\n",
    "    page = requests.get(link)\n",
    "    soup = BeautifulSoup(page.content, \"html.parser\")\n",
    "    content = soup.find(\"div\", {\"class\":\"mw-content-text\"})\n",
    "    songs = []\n",
    "    if content is not None:\n",
    "        trackListBox = content.find(\"ol\")\n",
    "        songItems = trackListBox.findAll(\"li\")\n",
    "        for songItem in songItems:\n",
    "            songLink = songItem.find(\"a\")\n",
    "            title = songLink.string\n",
    "            url = \"http://lyrics.wikia.com{0}\".format(songLink[\"href\"])\n",
    "            songs.append((title, url))\n",
    "    return songs\n",
    "    "
   ]
  },
  {
   "cell_type": "code",
   "execution_count": 38,
   "metadata": {
    "collapsed": true
   },
   "outputs": [],
   "source": [
    "def corpusToString(corpus):\n",
    "    lyrics = \"\"\n",
    "    for x in corpus.keys():\n",
    "        for y in corpus[x]:\n",
    "            lyrics += corpus[x][y]\n",
    "    return lyrics"
   ]
  },
  {
   "cell_type": "code",
   "execution_count": 39,
   "metadata": {},
   "outputs": [],
   "source": [
    "def main():\n",
    "    parser = argparse.ArgumentParser(description=\"Get lyrics from your favorite songs, artists, genres, and billboard charts!\")\n",
    "    \n",
    "    parser.add_argument(\n",
    "    \"-a\", \"--artist\",\n",
    "    help=\"Specify the artist's name\",\n",
    "    required=False\n",
    "    )\n",
    "    parser.add_argument(\n",
    "    \"-t\", \"--title\",\n",
    "    help=\"Specify the song's title\",\n",
    "    required=False\n",
    "    )\n",
    "    parser.add_argument(\n",
    "    \"-g\", \"--genre\",\n",
    "    help=\"Specify the genre of lyrics you would like to receive\",\n",
    "    required=False\n",
    "    )\n",
    "    parser.add_argument(\n",
    "    \"-gl\", \"--genrelist\",\n",
    "    help=\"Returns a list of the genres from which you can retrieve a corpus of lyrics\",\n",
    "    required=False,\n",
    "    action='store_true'\n",
    "    )\n",
    "    parser.add_argument(\n",
    "    \"-b\", \"--billboardchart\",\n",
    "    help=\"Specify the number of weeks for the billboard charts\",\n",
    "    required=False\n",
    "    )\n",
    "    \n",
    "    args = parser.parse_args()\n",
    "    \n",
    "    if args.artist:\n",
    "        if args.title:\n",
    "            print(getLyrics(args.artist, args.title))\n",
    "        else:\n",
    "            print(corpusToString(getArtistCorpus(args.artist)))\n",
    "    elif args.genre:\n",
    "        print(corpusToString(getGenreCorpus(args.genre)))\n",
    "    elif args.genrelist:\n",
    "        print(getGenreList())\n",
    "    elif args.billboardchart:\n",
    "        print(corpusToString(getBillboardCorpus(args.billboardchart)))\n",
    "    else:\n",
    "        raise Exception(\"An argument, such as -a artist -t title, is needed\")"
   ]
  },
  {
   "cell_type": "code",
   "execution_count": 40,
   "metadata": {},
   "outputs": [
    {
     "name": "stderr",
     "output_type": "stream",
     "text": [
      "usage: ipykernel_launcher.py [-h] [-a ARTIST] [-t TITLE] [-g GENRE] [-gl]\n",
      "                             [-b BILLBOARDCHART]\n",
      "ipykernel_launcher.py: error: unrecognized arguments: -f C:\\Users\\seley\\AppData\\Roaming\\jupyter\\runtime\\kernel-cb0cafe1-0d2b-4575-b63d-b883be70c816.json\n"
     ]
    },
    {
     "ename": "SystemExit",
     "evalue": "2",
     "output_type": "error",
     "traceback": [
      "An exception has occurred, use %tb to see the full traceback.\n",
      "\u001b[1;31mSystemExit\u001b[0m\u001b[1;31m:\u001b[0m 2\n"
     ]
    },
    {
     "name": "stderr",
     "output_type": "stream",
     "text": [
      "C:\\Users\\seley\\Anaconda3\\lib\\site-packages\\IPython\\core\\interactiveshell.py:2870: UserWarning: To exit: use 'exit', 'quit', or Ctrl-D.\n",
      "  warn(\"To exit: use 'exit', 'quit', or Ctrl-D.\", stacklevel=1)\n"
     ]
    }
   ],
   "source": [
    "if __name__ == '__main__':\n",
    "    main()"
   ]
  }
 ],
 "metadata": {
  "kernelspec": {
   "display_name": "Python 3",
   "language": "python",
   "name": "python3"
  },
  "language_info": {
   "codemirror_mode": {
    "name": "ipython",
    "version": 3
   },
   "file_extension": ".py",
   "mimetype": "text/x-python",
   "name": "python",
   "nbconvert_exporter": "python",
   "pygments_lexer": "ipython3",
   "version": "3.6.3"
  }
 },
 "nbformat": 4,
 "nbformat_minor": 2
}
